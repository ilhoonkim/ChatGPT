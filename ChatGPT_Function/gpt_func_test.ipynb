{
 "cells": [
  {
   "cell_type": "code",
   "execution_count": 2,
   "metadata": {},
   "outputs": [
    {
     "name": "stderr",
     "output_type": "stream",
     "text": [
      "/home/aift-ml/.local/lib/python3.10/site-packages/tqdm/auto.py:22: TqdmWarning: IProgress not found. Please update jupyter and ipywidgets. See https://ipywidgets.readthedocs.io/en/stable/user_install.html\n",
      "  from .autonotebook import tqdm as notebook_tqdm\n",
      "2023-05-02 16:32:51.611680: I tensorflow/core/platform/cpu_feature_guard.cc:193] This TensorFlow binary is optimized with oneAPI Deep Neural Network Library (oneDNN) to use the following CPU instructions in performance-critical operations:  AVX2 FMA\n",
      "To enable them in other operations, rebuild TensorFlow with the appropriate compiler flags.\n",
      "2023-05-02 16:32:51.741889: E tensorflow/stream_executor/cuda/cuda_blas.cc:2981] Unable to register cuBLAS factory: Attempting to register factory for plugin cuBLAS when one has already been registered\n",
      "2023-05-02 16:32:52.208987: W tensorflow/stream_executor/platform/default/dso_loader.cc:64] Could not load dynamic library 'libnvinfer.so.7'; dlerror: libnvinfer.so.7: cannot open shared object file: No such file or directory; LD_LIBRARY_PATH: /usr/local/cuda/lib64:\n",
      "2023-05-02 16:32:52.209046: W tensorflow/stream_executor/platform/default/dso_loader.cc:64] Could not load dynamic library 'libnvinfer_plugin.so.7'; dlerror: libnvinfer_plugin.so.7: cannot open shared object file: No such file or directory; LD_LIBRARY_PATH: /usr/local/cuda/lib64:\n",
      "2023-05-02 16:32:52.209051: W tensorflow/compiler/tf2tensorrt/utils/py_utils.cc:38] TF-TRT Warning: Cannot dlopen some TensorRT libraries. If you would like to use Nvidia GPU with TensorRT, please make sure the missing libraries mentioned above are installed properly.\n"
     ]
    }
   ],
   "source": [
    "from ChatGPT_function import gpt_func"
   ]
  },
  {
   "cell_type": "code",
   "execution_count": 3,
   "metadata": {},
   "outputs": [],
   "source": [
    "gf = gpt_func()"
   ]
  },
  {
   "attachments": {},
   "cell_type": "markdown",
   "metadata": {},
   "source": [
    "<b><font size = 5>커스텀 GPT 테스트</font></b>"
   ]
  },
  {
   "cell_type": "code",
   "execution_count": 3,
   "metadata": {},
   "outputs": [],
   "source": [
    "prompt_text =\"주어진 문장에서 사람 이름을 추출해줘\"\n",
    "input_text =\"어제 송용관 이사님은 술을 마셨다. 누구랑 마셨냐면 오교중인지 김성환인지 헷갈린다. \""
   ]
  },
  {
   "cell_type": "code",
   "execution_count": 4,
   "metadata": {},
   "outputs": [
    {
     "data": {
      "text/plain": [
       "'송용관, 오교중, 김성환'"
      ]
     },
     "execution_count": 4,
     "metadata": {},
     "output_type": "execute_result"
    }
   ],
   "source": [
    "gf.basic_gpt_api(prompt_text, input_text)"
   ]
  },
  {
   "cell_type": "code",
   "execution_count": 12,
   "metadata": {},
   "outputs": [],
   "source": [
    "prompt_text2 =\"다음 문장으로 유추할 때 가장 나이가 많은 사람이 누구야?\"\n",
    "input_text2 =\"김성환과 오교중은 친구이다. 하지만 김성환은 빠른 생이라 오교중보다 실제 나이는 한살 어리다. 박수환은 오교중보다 한살 더 많다. 송용관 이사님은 박수환보다 12살 많다. 김우종 팀장님은 송용관 이사님보다 4살 어리다. \""
   ]
  },
  {
   "cell_type": "code",
   "execution_count": 13,
   "metadata": {},
   "outputs": [
    {
     "data": {
      "text/plain": [
       "'송용관 이사님이 가장 나이가 많은 사람입니다.'"
      ]
     },
     "execution_count": 13,
     "metadata": {},
     "output_type": "execute_result"
    }
   ],
   "source": [
    "gf.basic_gpt_api(prompt_text2, input_text2)"
   ]
  },
  {
   "attachments": {},
   "cell_type": "markdown",
   "metadata": {},
   "source": [
    "<b><font size = 5>전화상담 완전판매모니터링 테스트</font></b>"
   ]
  },
  {
   "cell_type": "code",
   "execution_count": 5,
   "metadata": {},
   "outputs": [],
   "source": [
    "with open('/home/aift-ml/workspace/ChatGPT_Function/data/313920220513152208.txt', 'r', encoding='cp949') as f:\n",
    "    transcript_1 = f.read()"
   ]
  },
  {
   "cell_type": "code",
   "execution_count": 6,
   "metadata": {},
   "outputs": [],
   "source": [
    "total,output = gf.happycall_mapreduce_chain(transcript_1)"
   ]
  },
  {
   "cell_type": "code",
   "execution_count": 7,
   "metadata": {},
   "outputs": [
    {
     "name": "stdout",
     "output_type": "stream",
     "text": [
      "- 1. 본인정보 확인 여부: 없음\n",
      "- 2. 상품 정보 제공 여부: 있음 (카드 혜택, 기프트, 할인, 연회비 등 상품 정보 제공)\n",
      "- 3. 서류 정보 제공 여부: 없음\n"
     ]
    }
   ],
   "source": [
    "print(output)"
   ]
  },
  {
   "cell_type": "code",
   "execution_count": 9,
   "metadata": {},
   "outputs": [],
   "source": [
    "with open('/home/aift-ml/workspace/ChatGPT_Function/data/313920220502140030.txt', 'r', encoding='cp949') as f:\n",
    "    transcript_2 = f.read()"
   ]
  },
  {
   "cell_type": "code",
   "execution_count": 10,
   "metadata": {},
   "outputs": [],
   "source": [
    "total2,output2 = gf.happycall_mapreduce_chain(transcript_2)"
   ]
  },
  {
   "cell_type": "code",
   "execution_count": 11,
   "metadata": {},
   "outputs": [
    {
     "name": "stdout",
     "output_type": "stream",
     "text": [
      "- 1. 본인정보 확인 여부: 있음(자택 주소 및 생년월일 확인)\n",
      "- 2. 상품 정보 제공 여부: 있음(카드 혜택, 상품명, 가입기간, 조건, 자격, 교체 방법, 연회비, 기프트, 할부, 단기카드대출 등의 이자율 등에 대한 설명)\n",
      "- 3. 서류 정보 제공 여부: 있음(운전면허증 정보 수집 동의 안내, 핵심신용카드설명서 및 약관 제공)\n"
     ]
    }
   ],
   "source": [
    "print(output2)"
   ]
  },
  {
   "attachments": {},
   "cell_type": "markdown",
   "metadata": {},
   "source": [
    "<b><font size = 5>문서 요약</font></b>"
   ]
  },
  {
   "cell_type": "code",
   "execution_count": 5,
   "metadata": {},
   "outputs": [
    {
     "data": {
      "text/plain": [
       "'삼성카드와 더원 아멕스카드는 프리미엄 카드 교체 혜택을 제공하며, 연회비는 높지만 기프트 신청 시 할인과 포인트 적립 혜택을 받을 수 있다. 더원 예 프리미엄 더원카드는 우수회원에게 발급되는 카드이며, 변경 신청도 가능하다.'"
      ]
     },
     "execution_count": 5,
     "metadata": {},
     "output_type": "execute_result"
    }
   ],
   "source": [
    "gf.summarize_mapreduce_chain(transcript,3000,200)"
   ]
  },
  {
   "attachments": {},
   "cell_type": "markdown",
   "metadata": {},
   "source": [
    "<b><font size = 5>pdf 파일 기반 MRC</font></b>"
   ]
  },
  {
   "cell_type": "code",
   "execution_count": 6,
   "metadata": {},
   "outputs": [
    {
     "data": {
      "text/plain": [
       "'보험료 연체 시에는 해당 계약의 평균공시이율 + 1%를 적용하여 연체이자를 계산합니다.'"
      ]
     },
     "execution_count": 6,
     "metadata": {},
     "output_type": "execute_result"
    }
   ],
   "source": [
    "gf.chat_gpt_qa_page(\"data/사방_30532(10)_노후실손의료비보험2109_20210925.pdf\",\"보험료 연체 시에 적용 이율은 어떻게 되나요?\")"
   ]
  },
  {
   "cell_type": "code",
   "execution_count": 12,
   "metadata": {},
   "outputs": [
    {
     "data": {
      "text/plain": [
       "'노후실손의료비(상해형/질병형) 담보명은 최고 가입금액이 1억원이며, 상급병실료차액보장(통합형) 담보명은 최고 가입금액이 2천만원입니다.'"
      ]
     },
     "execution_count": 12,
     "metadata": {},
     "output_type": "execute_result"
    }
   ],
   "source": [
    "gf.chat_gpt_qa_page(\"data/사방_30532(10)_노후실손의료비보험2109_20210925.pdf\",\"가입금액이 1억원인 담보명과 2천만원인 담보명은 무엇인가요?\")"
   ]
  },
  {
   "attachments": {},
   "cell_type": "markdown",
   "metadata": {},
   "source": [
    "<b><font size = 5>pdf 파일 기반 QA 생성 <font></b>"
   ]
  },
  {
   "cell_type": "code",
   "execution_count": 7,
   "metadata": {},
   "outputs": [
    {
     "data": {
      "text/plain": [
       "['Q: 보험의 종류는 무엇인가요? ',\n",
       " 'A: 장기손해보험과 장기기타보험이 있습니다.',\n",
       " '',\n",
       " 'Q: 보험종목의 명칭은 무엇인가요? ',\n",
       " 'A: 무배당 프로미라이프 노후실손의료비보험2109입니다.',\n",
       " '',\n",
       " 'Q: 보험의 목적은 무엇인가요? ',\n",
       " 'A: 피보험자(보험대상자)의 신체입니다.',\n",
       " 'Q: 재가입주기는 어떻게 되나요?',\n",
       " 'A: 재가입주기는 보험기간이 종료되거나 보장내용 변경주기에 따라 다릅니다.',\n",
       " '',\n",
       " 'Q: 노후실손의료비보험의 보장내용은 어떻게 되나요?',\n",
       " 'A: 노후실손의료비보험의 보장내용은 최초계약시 53세부터 99세까지이며, 상해형 또는 질병형으로 구분됩니다.',\n",
       " '',\n",
       " 'Q: 의료급여 수급권자는 보험료 할인을 받을 수 있나요?',\n",
       " 'A: 의료급여 수급권자는 노후실손의료보험의 경우 영업보험료의 5%를 할인받을 수 있습니다. 단, 할인금액의 합계액이 예정사업비 합계액을 초과하는 경우 그 예정사업비를 한도로 보험료를 할인합니다.',\n",
       " 'Q1: 갱신형 담보란 무엇인가요?',\n",
       " 'A1: 갱신형 담보란 자동 갱신 보장이 있는 보험 계약을 말합니다.',\n",
       " '',\n",
       " 'Q2: 갱신계약의 보험료는 어떻게 통보되나요?',\n",
       " 'A2: 갱신계약의 보험료는 자동갱신 보장의 보험기간이 종료되기 15일 이전까지 계약자에게 서면, 전화(음성녹음) 또는 전자문서 등으로 안내됩니다.',\n",
       " '',\n",
       " 'Q3: 보험료는 어떻게 산출되나요?',\n",
       " 'A3: 갱신계약에 대하여는 갱신일 현재의 보험요율을 적용하며, 보험요율은 나이의 증가, 의료수가의 변동, 기초율(적용이율, 위험률 등)의 변동 등의 사유로 변동될 수 있습니다.',\n",
       " 'Q: 이륜자동차 운전중 상해 부담보 특별약관은 어떤 경우에 부가되나요? ',\n",
       " 'A: 이륜자동차를 소유, 사용, 관리함으로 인하여 이륜자동차의 운전과 관련된 급격하고도 우연한 외래의 사고로 신체의 상해를 입을 위험정도가 회사가 정한 기준에 적합하지 않은 경우 보험계약자의 청약과 회사의 승낙으로 보험계약에 부가됩니다.',\n",
       " '',\n",
       " 'Q: 특정 신체부위․질병 보장제한부 인수 특별약관은 어떤 경우에 적용되나요? ',\n",
       " 'A: 피보험자의 건강상태가 회사가 정한 기준에 적합하지 않을 경우 또는 해당계약을 체결한 후 계약전 알릴 의무 위반의 효과 등으로 보장을 제한할 경우 특정부위에 발생한 질병 또는 특정질병을 제외한 기타질병을 보상합니다.',\n",
       " '',\n",
       " 'Q: 보험금 지급사유가 회사의 자체적인 기준이 아닌 경우에는 어떤 경우에 계약내용이 변경될 수 있나요? ',\n",
       " 'A: 관련 법률의 개정 또는 폐지 등에 따라 약관에서 정한 보험금 지급사유 판정기준이 변경되는 경우, 관련 법률의 개정 또는 폐지 등에 따라 약관에서 정한 보험금 지급사유의 판정이 불가능한 경우, 관련 법률의 개정 또는 폐지 등에 따라 계약유지 필요가 없어지는 경우, 기타 금융위원회 등의 명령이 있는 경우에는 객관적이고 합리적인 범위내에서 기존 계약내용에 상응하는 새로운 보장내용으로 계약내용이 변경될 수 있습니다.',\n",
       " 'Q: 회사는 계약 체결시 어떤 사항을 계약자에게 안내하나요? ',\n",
       " 'A: 보장내용, 가입금액 및 납입보험료 등이 변경될 수 있는 경우와 관련된 사항을 안내합니다.',\n",
       " '',\n",
       " 'Q: 보장내용이 변경되는 경우 보험료산출기초율은 어떻게 적용되나요? ',\n",
       " 'A: 최신의 통계를 반영하여 보험료산출기초율을 재산출하며, 계약내용 변경으로 보장내용 및 가입금액 등이 변경될 수 있고 납입보험료가 변경될 수 있습니다.',\n",
       " '',\n",
       " 'Q: 재가입에 관한 사항은 어떻게 되나요? ',\n",
       " 'A: 계약자가 재가입 의사를 표시한 경우, 회사는 기존 계약에 이어 재가입할 수 있으며, 자동갱신종료 후 계약자가 재가입을 원하는 경우 회사가 판매하는 노후실손의료보험 상품으로 가입할 수 있습니다.',\n",
       " 'Q: 보장담보별 최고 가입금액은 어떻게 운영되나요?',\n",
       " 'A: 각 보장담보별 보험가입금액은 최고 한도로 운영되며, 가입나이, 건강 상태 및 직무 등에 따라 제한될 수 있습니다.',\n",
       " '',\n",
       " 'Q: 자동갱신형 상품의 예상 영업보험료는 어떻게 안내되나요?',\n",
       " 'A: 계약자가 연령증가 등에 따른 예상보험료를 알기 쉽도록 최소 5개 이상 갱신시점의 예상 영업보험료를 안내합니다.',\n",
       " '',\n",
       " 'Q: 계약이 해지된 경우 해지환급금은 어떻게 지급되나요?',\n",
       " 'A: 위 7) 내지 8)에 따라 계약이 해지된 경우 회사는 해지환급금을 계약자에게 지급합니다.']"
      ]
     },
     "execution_count": 7,
     "metadata": {},
     "output_type": "execute_result"
    }
   ],
   "source": [
    "gf.chat_gpt_question_generation(\"data/사방_30532(10)_노후실손의료비보험2109_20210925.pdf\")"
   ]
  },
  {
   "attachments": {},
   "cell_type": "markdown",
   "metadata": {},
   "source": [
    "<b><font size = 5>FAQ 패러프래이징 <font></b>"
   ]
  },
  {
   "cell_type": "code",
   "execution_count": 8,
   "metadata": {},
   "outputs": [
    {
     "data": {
      "text/plain": [
       "['당뇨병이 있어도 보험 청약이 가능한가요?',\n",
       " '당뇨 환자도 실손보험 가입이 가능한가요?',\n",
       " '당뇨 진단을 받은 사람도 보험 가입이 가능한가요?',\n",
       " '당뇨증이 있어도 보험 가입이 가능한가요?',\n",
       " '당뇨 환자도 실비보험 가입이 가능한가요?',\n",
       " '당뇨 질환자도 보험 청약이 가능한가요?',\n",
       " '당뇨 진단을 받은 사람도 실손보험 가입이 가능한가요?',\n",
       " '당뇨증이 있어도 보험 청약이 가능한가요?',\n",
       " '당뇨 환자도 실비보험 가입이 허용되나요?',\n",
       " '당뇨 질환자도 보험 가입이 가능한가요?',\n",
       " '당뇨 진단을 받은 사람도 실손보험 가입이 허용되나요?',\n",
       " '당뇨증이 있어도 보험 가입이 허용되나요?',\n",
       " '당뇨 환자도 실비보험 가입이 허가되나요?',\n",
       " '당뇨 질환자도 보험 청약이 허용되나요?',\n",
       " '당뇨 진단을 받은 사람도 보험 가입이 허가되나요?']"
      ]
     },
     "execution_count": 8,
     "metadata": {},
     "output_type": "execute_result"
    }
   ],
   "source": [
    "gf.faq_argumentation(\"당뇨병이 있어도 실비보험 가입이 가능한가요?\")"
   ]
  },
  {
   "attachments": {},
   "cell_type": "markdown",
   "metadata": {},
   "source": [
    "<b><font size = 5>재미 - 부처/예수님의 입장으로 대답해주기 <font></b>"
   ]
  },
  {
   "cell_type": "code",
   "execution_count": 4,
   "metadata": {},
   "outputs": [
    {
     "name": "stdout",
     "output_type": "stream",
     "text": [
      "답변: \"모든 것은 변화한다\" - 부처님의 명언\n",
      "\n",
      "부처님은 모든 것이 변화하고 변화는 불가피하다는 것을 가르쳐주셨습니다. 이 말은 우리가 지금 겪고 있는 어려움도 결국에는 지나갈 것이라는 것을 의미합니다. 그리고 이 변화를 받아들이고 이해하는 것이 중요합니다. \n",
      "\n",
      "우리는 모두 일을 하면서 어려움을 겪습니다. 하지만 이 어려움은 우리가 성장하고 발전할 수 있는 기회가 될 수 있습니다. 우리는 이 어려움을 이겨내고 더 나은 사람이 되기 위해 노력해야 합니다. \n",
      "\n",
      "하지만 때로는 우리가 할 수 있는 최선을 다해도 상황이 바뀌지 않을 때가 있습니다. 이럴 때는 우리가 바꿀 수 있는 것과 바꿀 수 없는 것을 구분해야 합니다. 우리가 바꿀 수 있는 것은 최선을 다해 노력하면 되고, 바꿀 수 없는 것은 받아들이고 그 상황을 이겨내는 방법을 찾아야 합니다. \n",
      "\n",
      "그리고 마지막으로, 우리는 항상 긍정적인 마음가짐을 가지고 있어야 합니다. 우리가 마음 속에 부정적인 생각이 많으면 그것이 우리의 행동에 영향을 미치게 됩니다. 그래서 우리는 긍정적인 생각을 가지고 힘든 상황을 이겨내야 합니다. \n",
      "\n",
      "결국에는 모든 것은 변화하고 이 어려움도 지나갈 것입니다. 그리고 이 어려움을 이겨내면 우리는 더 강해지고 성장할 수 있습니다.\n"
     ]
    }
   ],
   "source": [
    "print(gf.gpt_buddha_answer(\"퇴근하고 싶은데 못해서 너무 힘들어요\"))"
   ]
  },
  {
   "cell_type": "code",
   "execution_count": 5,
   "metadata": {},
   "outputs": [
    {
     "name": "stdout",
     "output_type": "stream",
     "text": [
      "-도움이 될 성경구절: \"너희는 다 내게로 오라. 피곤하고 무거운 짐을 지고 있는 너희를 쉬게 해 주리라.\" (마태복음 11:28)\n",
      "-답변: 예수님은 우리의 피로와 고민을 이해하시고 그것을 덜어주시려 합니다. 그분께서는 우리에게 \"내게로 오라\"고 말씀하시며 피로하고 지친 우리를 안식과 휴식으로 이끌어주실 것입니다. 그분과 함께하는 시간을 가지며 마음을 편히 하시고, 그분께 우리의 고민을 맡기며 기도하시면 마음이 안정될 것입니다.\n"
     ]
    }
   ],
   "source": [
    "print(gf.gpt_juesus_counsel_answer(\"퇴근하고 싶은데 못해서 너무 힘들어요\"))"
   ]
  },
  {
   "attachments": {},
   "cell_type": "markdown",
   "metadata": {},
   "source": [
    "<b><font size = 5>DB손해보험 세일즈 마케팅 추천 문구 제작 <font></b>"
   ]
  },
  {
   "cell_type": "code",
   "execution_count": 3,
   "metadata": {},
   "outputs": [
    {
     "data": {
      "text/plain": [
       "'DB손해보험의 암보험 상품을 이영수님께 강력히 추천드립니다. 이 상품은 원하는 부위별로 추가 진단비를 선택할 수 있어, 이영수님의 남성으로서 발생할 수 있는 암 질환에 대한 보호를 더욱 강화할 수 있습니다. 또한, 이영수님의 나이에 맞게 오랜 기간 보장되는 어린이보험 상품도 함께 검토해보시는 것을 추천드립니다.'"
      ]
     },
     "execution_count": 3,
     "metadata": {},
     "output_type": "execute_result"
    }
   ],
   "source": [
    "gf.DB_sales_gpt({\"last_visit_prodiuct\":['암보험'],\"age\":\"49세\",\"sex\":\"남성\",\"이름\":\"이영수\"})"
   ]
  },
  {
   "attachments": {},
   "cell_type": "markdown",
   "metadata": {},
   "source": [
    "<b><font size = 5>신문 필요 내용 추출 <font></b>"
   ]
  },
  {
   "cell_type": "code",
   "execution_count": 13,
   "metadata": {},
   "outputs": [],
   "source": [
    "news_text = \"\"\"삼성전자[005930]가 글로벌 메모리 업황 악화로 반도체 부문에서만 4조5천억원이 넘는 적자를 냈다.\n",
    "삼성전자가 반도체 부문에서 분기 적자를 기록한 것은 글로벌 금융위기를 겪은 2009년 1분기 이후 14년 만이다.\n",
    "삼성전자는 연결 기준 올해 1분기 영업이익이 6천402억원으로 지난해 동기보다 95.5% 감소한 것으로 잠정 집계됐다고 27일 공시했다.\n",
    "이는 연합인포맥스가 집계한 시장 전망치 5천857억원을 9.3% 웃도는 수준이다.\n",
    "삼성전자의 분기 영업이익이 1조원대 이하로 주저앉은 것은 2009년 1분기(5천900억원) 이후 처음이다.\n",
    "매출은 63조7천454억원으로 작년 동기 대비 18.1% 감소했다. 순이익은 1조5천746억원으로 86.1% 줄었다.\n",
    "이는 지난 7일 공시한 잠정 실적(매출 63조원, 영업이익 6천억원)과 비슷한 수준이다.\n",
    "글로벌 경기 침체 여파로 소비 심리가 위축되며 수요가 부진하고 재고가 늘며 가격이 하락하는 등 주력인 메모리 반도체 업황이 악화하며 사상 최악의 성적표를 받았다.\"\"\""
   ]
  },
  {
   "cell_type": "code",
   "execution_count": 16,
   "metadata": {},
   "outputs": [
    {
     "name": "stdout",
     "output_type": "stream",
     "text": [
      "1.삼성전자에 대한 투자의견(목표주가 등)\n",
      "- 기사에 관련된 내용이 없습니다.\n",
      "\n",
      "2.삼성전자의 주가(최근 종가 및 주가 변화)\n",
      "- 기사에 관련된 내용이 없습니다.\n",
      "\n",
      "3.삼성전자의 사업 현황(신규계약 및 투자 관련)\n",
      "- 기사에 관련된 내용이 없습니다.\n",
      "\n",
      "4.삼성전자의 재무 현황(매출 및 영업이익 등)\n",
      "- 삼성전자는 1분기 영업이익이 6천402억원으로 작년 동기 대비 60.1% 감소하였다.\n",
      "- 매출은 63조7천454억원으로 작년 동기 대비 18.1% 감소하였다.\n",
      "- 순이익은 1조5천746억원으로 작년 동기 대비 86.1% 줄었다.\n",
      "\n",
      "5.삼성전자의 경영진 문제(경영진의 문제나 이슈)\n",
      "- 기사에 관련된 내용이 없습니다.\n",
      "\n",
      "6.삼성전자의 산업 현황 및 전망(관련 업종의 호황 및 불황)\n",
      "- 글로벌 경기 침체 여파로 소비 심리가 위축되며 수요가 부진하고 재고가 늘며 가격이 하락하는 등 주력인 메모리 반도체 업황이 악화하며 사상 최악의 성적표를 받았다.\n"
     ]
    }
   ],
   "source": [
    "print(gf.gpt_news_report(\"삼성전자\",news_text))"
   ]
  },
  {
   "cell_type": "code",
   "execution_count": 17,
   "metadata": {},
   "outputs": [
    {
     "name": "stdout",
     "output_type": "stream",
     "text": [
      "1. 대우조선해양에 대한 투자의견(목표주가 등)\n",
      "- 기사에 관련된 내용이 없습니다.\n",
      "\n",
      "2. 대우조선해양의 주가(최근 종가 및 주가 변화)\n",
      "- 기사에 관련된 내용이 없습니다.\n",
      "\n",
      "3. 대우조선해양의 사업 현황(신규계약 및 투자 관련)\n",
      "- 기사에 관련된 내용이 없습니다.\n",
      "\n",
      "4. 대우조선해양의 재무 현황(매출 및 영업이익 등)\n",
      "- 기사에 관련된 내용이 없습니다.\n",
      "\n",
      "5. 대우조선해양의 경영진 문제(경영진의 문제나 이슈)\n",
      "- 기사에 관련된 내용이 없습니다.\n",
      "\n",
      "6. 대우조선해양의 산업 현황 및 전망(관련 업종의 호황 및 불황)\n",
      "- 기사에 관련된 내용이 없습니다.\n"
     ]
    }
   ],
   "source": [
    "print(gf.gpt_news_report(\"대우조선해양\",news_text))"
   ]
  }
 ],
 "metadata": {
  "kernelspec": {
   "display_name": "Python 3",
   "language": "python",
   "name": "python3"
  },
  "language_info": {
   "codemirror_mode": {
    "name": "ipython",
    "version": 3
   },
   "file_extension": ".py",
   "mimetype": "text/x-python",
   "name": "python",
   "nbconvert_exporter": "python",
   "pygments_lexer": "ipython3",
   "version": "3.10.11"
  },
  "orig_nbformat": 4,
  "vscode": {
   "interpreter": {
    "hash": "97cc609b13305c559618ec78a438abc56230b9381f827f22d070313b9a1f3777"
   }
  }
 },
 "nbformat": 4,
 "nbformat_minor": 2
}
